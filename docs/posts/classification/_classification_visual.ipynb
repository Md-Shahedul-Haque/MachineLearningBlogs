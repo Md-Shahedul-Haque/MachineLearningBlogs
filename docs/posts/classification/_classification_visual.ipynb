{
  "cells": [
    {
      "cell_type": "markdown",
      "metadata": {
        "id": "a6ajWqcZE6c5"
      },
      "source": [
        "# Classification Visualization"
      ]
    },
    {
      "cell_type": "code",
      "source": [
        "#| label: load_dataset\n",
        "#| code-fold: false\n",
        "\n",
        "# Importing the required libraries\n",
        "import numpy as np\n",
        "import pandas as pd\n",
        "from sklearn import datasets\n",
        "\n",
        "# import the iris dataset\n",
        "iris = datasets.load_iris()\n",
        "print(iris.DESCR)\n",
        "X = iris.data\n",
        "y = iris.target\n",
        "\n",
        "# splitting X and y into training and testing sets\n",
        "from sklearn.model_selection import train_test_split\n",
        "X_train, X_test, y_train, y_test = train_test_split(\n",
        "    X, y, test_size=0.2, random_state=42)"
      ],
      "metadata": {
        "id": "DqKHXAe2i_kH",
        "colab": {
          "base_uri": "https://localhost:8080/"
        },
        "outputId": "f8b1f466-3f5c-4046-b330-97f07037674a"
      },
      "execution_count": null,
      "outputs": [
        {
          "output_type": "stream",
          "name": "stdout",
          "text": [
            ".. _iris_dataset:\n",
            "\n",
            "Iris plants dataset\n",
            "--------------------\n",
            "\n",
            "**Data Set Characteristics:**\n",
            "\n",
            "    :Number of Instances: 150 (50 in each of three classes)\n",
            "    :Number of Attributes: 4 numeric, predictive attributes and the class\n",
            "    :Attribute Information:\n",
            "        - sepal length in cm\n",
            "        - sepal width in cm\n",
            "        - petal length in cm\n",
            "        - petal width in cm\n",
            "        - class:\n",
            "                - Iris-Setosa\n",
            "                - Iris-Versicolour\n",
            "                - Iris-Virginica\n",
            "                \n",
            "    :Summary Statistics:\n",
            "\n",
            "    ============== ==== ==== ======= ===== ====================\n",
            "                    Min  Max   Mean    SD   Class Correlation\n",
            "    ============== ==== ==== ======= ===== ====================\n",
            "    sepal length:   4.3  7.9   5.84   0.83    0.7826\n",
            "    sepal width:    2.0  4.4   3.05   0.43   -0.4194\n",
            "    petal length:   1.0  6.9   3.76   1.76    0.9490  (high!)\n",
            "    petal width:    0.1  2.5   1.20   0.76    0.9565  (high!)\n",
            "    ============== ==== ==== ======= ===== ====================\n",
            "\n",
            "    :Missing Attribute Values: None\n",
            "    :Class Distribution: 33.3% for each of 3 classes.\n",
            "    :Creator: R.A. Fisher\n",
            "    :Donor: Michael Marshall (MARSHALL%PLU@io.arc.nasa.gov)\n",
            "    :Date: July, 1988\n",
            "\n",
            "The famous Iris database, first used by Sir R.A. Fisher. The dataset is taken\n",
            "from Fisher's paper. Note that it's the same as in R, but not as in the UCI\n",
            "Machine Learning Repository, which has two wrong data points.\n",
            "\n",
            "This is perhaps the best known database to be found in the\n",
            "pattern recognition literature.  Fisher's paper is a classic in the field and\n",
            "is referenced frequently to this day.  (See Duda & Hart, for example.)  The\n",
            "data set contains 3 classes of 50 instances each, where each class refers to a\n",
            "type of iris plant.  One class is linearly separable from the other 2; the\n",
            "latter are NOT linearly separable from each other.\n",
            "\n",
            ".. topic:: References\n",
            "\n",
            "   - Fisher, R.A. \"The use of multiple measurements in taxonomic problems\"\n",
            "     Annual Eugenics, 7, Part II, 179-188 (1936); also in \"Contributions to\n",
            "     Mathematical Statistics\" (John Wiley, NY, 1950).\n",
            "   - Duda, R.O., & Hart, P.E. (1973) Pattern Classification and Scene Analysis.\n",
            "     (Q327.D83) John Wiley & Sons.  ISBN 0-471-22361-1.  See page 218.\n",
            "   - Dasarathy, B.V. (1980) \"Nosing Around the Neighborhood: A New System\n",
            "     Structure and Classification Rule for Recognition in Partially Exposed\n",
            "     Environments\".  IEEE Transactions on Pattern Analysis and Machine\n",
            "     Intelligence, Vol. PAMI-2, No. 1, 67-71.\n",
            "   - Gates, G.W. (1972) \"The Reduced Nearest Neighbor Rule\".  IEEE Transactions\n",
            "     on Information Theory, May 1972, 431-433.\n",
            "   - See also: 1988 MLC Proceedings, 54-64.  Cheeseman et al\"s AUTOCLASS II\n",
            "     conceptual clustering system finds 3 classes in the data.\n",
            "   - Many, many more ...\n"
          ]
        }
      ]
    },
    {
      "cell_type": "markdown",
      "metadata": {
        "id": "kxukfdNSE6c5"
      },
      "source": [
        "## Linear Classification"
      ]
    },
    {
      "cell_type": "markdown",
      "source": [
        "### Support Vector Machine\n",
        "\n"
      ],
      "metadata": {
        "id": "DBj2NSqROt5a"
      }
    },
    {
      "cell_type": "code",
      "source": [
        "#| label: svm_model\n",
        "#| code-fold: false\n",
        "from sklearn.preprocessing import StandardScaler\n",
        "# Standardize the features\n",
        "scaler = StandardScaler()\n",
        "X_train_scaled = scaler.fit_transform(X_train)\n",
        "X_test_scaled = scaler.transform(X_test)\n",
        "\n",
        "# Create an SVM model on linear kernel\n",
        "from sklearn import svm\n",
        "svm_clf = svm.SVC(kernel='linear')  # Linear Kernel\n",
        "# train the model\n",
        "svm_clf.fit(X_train_scaled, y_train)\n",
        "# make predictions\n",
        "svm_clf_pred = svm_clf.predict(X_test_scaled)\n",
        "\n"
      ],
      "metadata": {
        "id": "tI7xj6dFQ3jp"
      },
      "execution_count": null,
      "outputs": []
    },
    {
      "cell_type": "markdown",
      "metadata": {
        "id": "2CxyvQ57BVTD"
      },
      "source": [
        "## Nonlinear Classification"
      ]
    },
    {
      "cell_type": "markdown",
      "source": [
        "### Naive Bayes\n"
      ],
      "metadata": {
        "id": "v3boKNXLfavB"
      }
    },
    {
      "cell_type": "code",
      "source": [
        "#| label: nb_model\n",
        "#| code-fold: false\n",
        "from sklearn.naive_bayes import GaussianNB\n",
        "# Create an NB model\n",
        "gnb = GaussianNB()\n",
        "# train the model\n",
        "gnb.fit(X_train, y_train)\n",
        "# make predictions\n",
        "gnb_pred = gnb.predict(X_test)\n"
      ],
      "metadata": {
        "id": "lXuiKwPofpdm"
      },
      "execution_count": null,
      "outputs": []
    },
    {
      "cell_type": "markdown",
      "source": [
        "###  Decision Tree Classifier"
      ],
      "metadata": {
        "id": "ibAEuCbEawTl"
      }
    },
    {
      "cell_type": "code",
      "execution_count": null,
      "metadata": {
        "id": "QGNvLh5qBcI4"
      },
      "outputs": [],
      "source": [
        "#| label: dtc_model\n",
        "#| code-fold: false\n",
        "\n",
        "from sklearn.tree import DecisionTreeClassifier\n",
        "\n",
        "# Create an DTC model\n",
        "dt = DecisionTreeClassifier(random_state=42)\n",
        "# train the model\n",
        "dt.fit(X_train, y_train)\n",
        "# make predictions\n",
        "dt_pred = dt.predict(X_test)"
      ]
    },
    {
      "cell_type": "markdown",
      "source": [
        "## Performance"
      ],
      "metadata": {
        "id": "cRAVfa6Fk-Ws"
      }
    },
    {
      "cell_type": "code",
      "source": [
        "#| label: performance\n",
        "#| code-fold: false\n",
        "from sklearn.metrics import accuracy_score, classification_report\n",
        "\n",
        "# Evaluate the models\n",
        "svm_accuracy = accuracy_score(y_test, svm_clf_pred)\n",
        "dt_accuracy = accuracy_score(y_test, dt_pred)\n",
        "gnb_accuracy = accuracy_score(y_test, gnb_pred)\n",
        "\n",
        "# Create a DataFrame for classification reports\n",
        "classification_reports = pd.DataFrame(columns=['accuracy', 'precision', 'recall', 'f1-score'])\n",
        "\n",
        "# Classification Report for SVM\n",
        "svm_classification_report = classification_report(y_test, svm_clf_pred, output_dict=True)\n",
        "svm_metrics = [svm_accuracy, svm_classification_report['0']['precision'], svm_classification_report['0']['recall'], svm_classification_report['0']['f1-score']]\n",
        "classification_reports.loc['Support Vector Machine'] = svm_metrics\n",
        "\n",
        "# Classification Report for Naive Bayes\n",
        "nb_classification_report = classification_report(y_test, gnb_pred, output_dict=True)\n",
        "nb_metrics = [gnb_accuracy, nb_classification_report['0']['precision'], nb_classification_report['0']['recall'], nb_classification_report['0']['f1-score']]\n",
        "classification_reports.loc['Naive Bayes'] = nb_metrics\n",
        "\n",
        "# Classification Report for Decision Tree\n",
        "tree_classification_report = classification_report(y_test, dt_pred, output_dict=True)\n",
        "tree_metrics = [dt_accuracy, tree_classification_report['0']['precision'], tree_classification_report['0']['recall'], tree_classification_report['0']['f1-score']]\n",
        "classification_reports.loc['Decision Tree'] = tree_metrics\n",
        "\n",
        "# Display the DataFrame\n",
        "print(classification_reports)\n"
      ],
      "metadata": {
        "colab": {
          "base_uri": "https://localhost:8080/"
        },
        "id": "kiHPmETFdctW",
        "outputId": "50c50797-edb1-473d-d74c-191feb332e4d"
      },
      "execution_count": null,
      "outputs": [
        {
          "output_type": "stream",
          "name": "stdout",
          "text": [
            "               accuracy  precision  recall  f1-score\n",
            "SVM            0.966667        1.0     1.0       1.0\n",
            "Decision Tree  1.000000        1.0     1.0       1.0\n",
            "Naive Bayes    1.000000        1.0     1.0       1.0\n"
          ]
        }
      ]
    },
    {
      "cell_type": "code",
      "source": [
        "#| label: conf_matrix\n",
        "#| code-fold: false\n",
        "\n",
        "from sklearn.metrics import confusion_matrix\n",
        "\n",
        "# Confusion Matrix for SVM\n",
        "svm_conf_matrix = confusion_matrix(y_test, svm_clf_pred)\n",
        "\n",
        "# Confusion Matrix for Decision Tree\n",
        "dt_conf_matrix = confusion_matrix(y_test, dt_pred)\n",
        "\n",
        "# Confusion Matrix for Naive Bayes\n",
        "gnb_conf_matrix = confusion_matrix(y_test, gnb_pred)\n",
        "\n",
        "# Plot Confusion Matrices\n",
        "import matplotlib.pyplot as plt\n",
        "import seaborn as sns\n",
        "\n",
        "labels = iris.target_names\n",
        "\n",
        "# Create subplots\n",
        "fig, axes = plt.subplots(nrows=1, ncols=3, figsize=(20, 6))\n",
        "\n",
        "# SVM Confusion Matrix\n",
        "sns.heatmap(svm_conf_matrix, annot=True, fmt='d', cmap='Blues', xticklabels=labels, yticklabels=labels, ax=axes[0])\n",
        "axes[0].set_title('Confusion Matrix for Support Vector Machine')\n",
        "\n",
        "# Naive Bayes Confusion Matrix\n",
        "sns.heatmap(gnb_conf_matrix, annot=True, fmt='d', cmap='Blues', xticklabels=labels, yticklabels=labels, ax=axes[1])\n",
        "axes[1].set_title('Confusion Matrix for Gaussian Naive Bayes')\n",
        "\n",
        "# Decision Tree Confusion Matrix\n",
        "sns.heatmap(dt_conf_matrix, annot=True, fmt='d', cmap='Blues', xticklabels=labels, yticklabels=labels, ax=axes[2])\n",
        "axes[2].set_title('Confusion Matrix for Decision Tree')\n",
        "\n",
        "# Add common x-axis label\n",
        "fig.text(0.5, 0.01, 'Predicted', ha='center', va='center', fontsize=14)\n",
        "\n",
        "# Add common y-axis label\n",
        "fig.text(0.02, 0.5, 'Actual', ha='center', va='center', rotation='vertical', fontsize=14)\n",
        "\n",
        "# Adjust layout\n",
        "plt.tight_layout()\n",
        "\n",
        "\n",
        "# Show the plot\n",
        "plt.show()"
      ],
      "metadata": {
        "colab": {
          "base_uri": "https://localhost:8080/",
          "height": 336
        },
        "id": "-D5yobQsmrut",
        "outputId": "6b77f204-0f4b-4eee-daee-c1cdc078a319"
      },
      "execution_count": 35,
      "outputs": [
        {
          "output_type": "display_data",
          "data": {
            "text/plain": [
              "<Figure size 2000x600 with 6 Axes>"
            ],
            "image/png": "[encoded data removed]"
          },
          "metadata": {}
        }
      ]
    }
  ],
  "metadata": {
    "colab": {
      "provenance": []
    },
    "kernelspec": {
      "display_name": "jupyter_venv",
      "language": "python",
      "name": "python3"
    },
    "language_info": {
      "codemirror_mode": {
        "name": "ipython",
        "version": 3
      },
      "file_extension": ".py",
      "mimetype": "text/x-python",
      "name": "python",
      "nbconvert_exporter": "python",
      "pygments_lexer": "ipython3",
      "version": "3.11.5"
    },
    "orig_nbformat": 4,
    "vscode": {
      "interpreter": {
        "hash": "1bc2308da2c6a333290bd1125482e90c994c9a229eb363eb97837a6ead0a33d5"
      }
    }
  },
  "nbformat": 4,
  "nbformat_minor": 0
}